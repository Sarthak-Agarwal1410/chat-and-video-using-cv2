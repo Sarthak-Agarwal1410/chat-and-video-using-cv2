{
 "cells": [
  {
   "cell_type": "code",
   "execution_count": null,
   "metadata": {},
   "outputs": [],
   "source": [
    "import cv2\n",
    "import socket\n",
    "import multithread\n",
    "import threading\n",
    "s=socket.socket()\n",
    "ip=\"\"\n",
    "port=2222\n",
    "s.bind((ip,port))\n",
    "s.listen()\n",
    "\n",
    "\n",
    "\n",
    "#client A\n",
    "def iiec(csessionA,addrA):\n",
    "    print(addrA)\n",
    "    csessionA.send(b'i m server')\n",
    "    dataA=csessionA.recv(100)\n",
    "    print(dataA)\n",
    "\n",
    "while True:\n",
    "   csessionA,addrA=s.accept()\t\t\n",
    "   t1= threading.Thread(target=iiec,args=(csessionA,addrA))\n",
    "   t1.start()\n",
    "   cap=cv2.VideoCapture(0)\n",
    "   while True:\n",
    "        status,photo=cap.read()\n",
    "        cv2.imshow('me',photo)\n",
    "        if cv2.waitKey(10)==13:\n",
    "            break\n",
    "        \n",
    "   cv2.destroyAllWindows()\n",
    "   cap.release()\n",
    "\n",
    "\n",
    "input()"
   ]
  },
  {
   "cell_type": "code",
   "execution_count": null,
   "metadata": {},
   "outputs": [],
   "source": []
  }
 ],
 "metadata": {
  "kernelspec": {
   "display_name": "Python 3",
   "language": "python",
   "name": "python3"
  },
  "language_info": {
   "codemirror_mode": {
    "name": "ipython",
    "version": 3
   },
   "file_extension": ".py",
   "mimetype": "text/x-python",
   "name": "python",
   "nbconvert_exporter": "python",
   "pygments_lexer": "ipython3",
   "version": "3.8.3"
  }
 },
 "nbformat": 4,
 "nbformat_minor": 4
}
